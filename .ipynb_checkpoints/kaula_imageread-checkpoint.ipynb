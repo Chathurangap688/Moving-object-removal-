{
 "cells": [
  {
   "cell_type": "code",
   "execution_count": 5,
   "metadata": {},
   "outputs": [],
   "source": [
    "from PIL import Image\n",
    "import numpy as np\n",
    "import os\n",
    "from scipy import misc\n",
    "def load_image( infilename ) :\n",
    "    img = Image.open( infilename )\n",
    "    img.load()\n",
    "    data = np.asarray( img, dtype=\"int32\" )\n",
    "    return data\n",
    "\n",
    "def save_image( npdata, outfilename,mod,size ) :\n",
    "    misc.imsave('./outfile.jpg', npdata)\n",
    "#     output = Image.new( mode, size)\n",
    "#     output_data = output.load()\n",
    "#     print(type(output_data))\n",
    "#     output_data = np.tolist(npdata)[:][:][:]\n",
    "#     print(type(output_data))\n",
    "#     output.show()\n",
    "#     output.save('./Joutput.jpg')    \n",
    "    \n",
    "def open_image_set(file_path):\n",
    "    files = os.listdir(file_path)\n",
    "    images=[]\n",
    "    for image in files:\n",
    "        images.append(load_image(file_path+'/'+image))\n",
    "    return images\n",
    "    "
   ]
  },
  {
   "cell_type": "code",
   "execution_count": 8,
   "metadata": {},
   "outputs": [
    {
     "name": "stdout",
     "output_type": "stream",
     "text": [
      "<class 'numpy.ndarray'>\n"
     ]
    },
    {
     "name": "stderr",
     "output_type": "stream",
     "text": [
      "/usr/lib/python3/dist-packages/ipykernel_launcher.py:12: DeprecationWarning: `imsave` is deprecated!\n",
      "`imsave` is deprecated in SciPy 1.0.0, and will be removed in 1.2.0.\n",
      "Use ``imageio.imwrite`` instead.\n",
      "  if sys.path[0] == '':\n"
     ]
    }
   ],
   "source": [
    "img=open_image_set('./pond')\n",
    "print(type(np.asarray(img[0])))\n",
    "im = Image.open('./pond/0.jpg')\n",
    "mode=im.mode\n",
    "size=im.size\n",
    "\n",
    "save_image(np.median(img,axis=0),'output.jpg',mode,size)"
   ]
  },
  {
   "cell_type": "code",
   "execution_count": null,
   "metadata": {},
   "outputs": [],
   "source": []
  }
 ],
 "metadata": {
  "kernelspec": {
   "display_name": "Python 3",
   "language": "python",
   "name": "python3"
  },
  "language_info": {
   "codemirror_mode": {
    "name": "ipython",
    "version": 3
   },
   "file_extension": ".py",
   "mimetype": "text/x-python",
   "name": "python",
   "nbconvert_exporter": "python",
   "pygments_lexer": "ipython3",
   "version": "3.6.7"
  }
 },
 "nbformat": 4,
 "nbformat_minor": 2
}
